{
 "cells": [
  {
   "cell_type": "markdown",
   "id": "30f70746-3780-4f25-869c-f46aaee3b7aa",
   "metadata": {},
   "source": [
    "# David Parker\n",
    "Notebook for assignment 7\n"
   ]
  },
  {
   "cell_type": "code",
   "execution_count": 5,
   "id": "aa6e9311-f0f2-4e41-9ecb-6968626dd961",
   "metadata": {},
   "outputs": [
    {
     "data": {
      "text/plain": [
       "5.0"
      ]
     },
     "execution_count": 5,
     "metadata": {},
     "output_type": "execute_result"
    }
   ],
   "source": [
    "def compute_mean(values):\n",
    "    return sum(values) / len(values)\n",
    "\n",
    "compute_mean([2, 4, 6, 8])"
   ]
  },
  {
   "cell_type": "markdown",
   "id": "bf3a8e1f-1286-4e4f-ab03-34d37cc1060f",
   "metadata": {},
   "source": [
    "The code above creates the function 'compute_mean()', declares there will be an input parameter called values, then returns the sum of values divided by the number of values in the list.\n",
    "\n",
    "$$\n",
    "\\begin{aligned}\n",
    "\\bar{x} = \\frac{x_1 + x_2 + \\cdots + x_n}{n} = \\frac{1}{n}  \\Bigg( \\sum_{i=1}^{n}x_i \\Bigg )\n",
    "\\end{aligned}\n",
    "$$"
   ]
  }
 ],
 "metadata": {
  "kernelspec": {
   "display_name": "Python [conda env:base] *",
   "language": "python",
   "name": "conda-base-py"
  },
  "language_info": {
   "codemirror_mode": {
    "name": "ipython",
    "version": 3
   },
   "file_extension": ".py",
   "mimetype": "text/x-python",
   "name": "python",
   "nbconvert_exporter": "python",
   "pygments_lexer": "ipython3",
   "version": "3.12.3"
  }
 },
 "nbformat": 4,
 "nbformat_minor": 5
}
